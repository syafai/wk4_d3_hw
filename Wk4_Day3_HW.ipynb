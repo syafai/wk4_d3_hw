{
 "cells": [
  {
   "cell_type": "markdown",
   "id": "f0bf3b27",
   "metadata": {},
   "source": [
    "There is an array with some numbers. All numbers are equal except for one. Try to find it!\n",
    "\n",
    "https://www.codewars.com/kata/585d7d5adb20cf33cb000235/train/python"
   ]
  },
  {
   "cell_type": "code",
   "execution_count": 3,
   "id": "eeee1755",
   "metadata": {},
   "outputs": [
    {
     "data": {
      "text/plain": [
       "350"
      ]
     },
     "execution_count": 3,
     "metadata": {},
     "output_type": "execute_result"
    }
   ],
   "source": [
    "def find_uniq(arr):\n",
    "    result = []\n",
    "    for i in arr :\n",
    "        if arr.count(i) == 1 :\n",
    "            result.append(i)\n",
    "    return result[0]\n",
    "\n",
    "#modified code reduces time complexity\n",
    "def find_uniq(arr):\n",
    "    counts = {}\n",
    "    for i in arr:\n",
    "        counts[i] = counts.get(i, 0) + 1\n",
    "    for i in arr:\n",
    "        if counts[i] == 1:\n",
    "            return i\n"
   ]
  },
  {
   "cell_type": "markdown",
   "id": "ebf74bf8",
   "metadata": {},
   "source": [
    "In this simple assignment you are given a number and have to make it negative. But maybe the number is already negative?\n",
    "\n",
    "https://www.codewars.com/kata/55685cd7ad70877c23000102/train/python/648a42a9cce8d11fa0cf2720"
   ]
  },
  {
   "cell_type": "code",
   "execution_count": 7,
   "id": "9770eb37",
   "metadata": {},
   "outputs": [
    {
     "data": {
      "text/plain": [
       "-4"
      ]
     },
     "execution_count": 7,
     "metadata": {},
     "output_type": "execute_result"
    }
   ],
   "source": [
    "def make_negative( number ):\n",
    "    \n",
    "    #my old code\n",
    "#     if number > 0:\n",
    "#         return number * -1\n",
    "#     elif number < 0:\n",
    "#         return number\n",
    "#     else:\n",
    "#         return 0\n",
    "    \n",
    "    #my modified code\n",
    "    return number * -1 if number > 0 else number\n",
    "\n",
    "make_negative(4)"
   ]
  },
  {
   "cell_type": "markdown",
   "id": "574ee37c",
   "metadata": {},
   "source": [
    "You probably know the \"like\" system from Facebook and other pages. People can \"like\" blog posts, pictures or other items. We want to create the text that should be displayed next to such an item.\n",
    "\n",
    "Implement the function which takes an array containing the names of people that like an item. \n",
    "\n",
    "https://www.codewars.com/kata/5266876b8f4bf2da9b000362/train/python/648a487ad52f51cb9106ab10"
   ]
  },
  {
   "cell_type": "code",
   "execution_count": null,
   "id": "8b32dcd1",
   "metadata": {},
   "outputs": [],
   "source": [
    "# has an optimal time complexity of O(1)\n",
    "    \n",
    "def likes(names):\n",
    "    # your code here\n",
    "    \n",
    "        if len(names) == 0:\n",
    "            return \"no one likes this\"\n",
    "        elif len(names) == 1:\n",
    "            return f\"{names[0]} likes this\"\n",
    "        elif len(names) == 2:\n",
    "            return f\"{names[0]} and {names[1]} like this\"\n",
    "        elif len(names) == 3:\n",
    "            return f\"{names[0]}, {names[1]} and {names[2]} like this\"\n",
    "        elif len(names) >= 4:\n",
    "            return f\"{names[0]}, {names[1]} and {len(names)-2} others like this\""
   ]
  }
 ],
 "metadata": {
  "kernelspec": {
   "display_name": "Python 3 (ipykernel)",
   "language": "python",
   "name": "python3"
  },
  "language_info": {
   "codemirror_mode": {
    "name": "ipython",
    "version": 3
   },
   "file_extension": ".py",
   "mimetype": "text/x-python",
   "name": "python",
   "nbconvert_exporter": "python",
   "pygments_lexer": "ipython3",
   "version": "3.10.9"
  }
 },
 "nbformat": 4,
 "nbformat_minor": 5
}
